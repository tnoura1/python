{
 "cells": [
  {
   "cell_type": "code",
   "execution_count": 4,
   "id": "64fc2a91",
   "metadata": {},
   "outputs": [
    {
     "name": "stdout",
     "output_type": "stream",
     "text": [
      "[(2, 1), (1, 2), (2, 3), (4, 4), (2, 5)]\n"
     ]
    }
   ],
   "source": [
    "def ordersecond(val):\n",
    "    return val[1]\n",
    "my_list=[(2,5),(1,2),(4,4),(2,3),(2,1)]\n",
    "my_list.sort(key=ordersecond)\n",
    "print(my_list)"
   ]
  },
  {
   "cell_type": "code",
   "execution_count": 8,
   "id": "42b5f9d8",
   "metadata": {},
   "outputs": [
    {
     "name": "stdout",
     "output_type": "stream",
     "text": [
      "36\n"
     ]
    }
   ],
   "source": [
    "def multiply(my_list):\n",
    "    result=1\n",
    "    for x in my_list:\n",
    "        result=result*x\n",
    "    return result\n",
    "my_list=[2,3,6]\n",
    "print(multiply(my_list))"
   ]
  },
  {
   "cell_type": "code",
   "execution_count": 12,
   "id": "d5afd152",
   "metadata": {},
   "outputs": [
    {
     "name": "stdout",
     "output_type": "stream",
     "text": [
      "Counter({'a': 400, 'b': 400, 'd': 400, 'c': 300})\n"
     ]
    }
   ],
   "source": [
    "from collections import Counter\n",
    "d1={'a':100,'b':200,'c':300}\n",
    "d2={'a':300,'b':200,'d':400}\n",
    "d=Counter(d1)+Counter(d2)\n",
    "print(d)"
   ]
  },
  {
   "cell_type": "code",
   "execution_count": 14,
   "id": "01a30b58",
   "metadata": {},
   "outputs": [
    {
     "name": "stdout",
     "output_type": "stream",
     "text": [
      "{1, 2, 3, 4, 5, 6, 7, 8}\n"
     ]
    }
   ],
   "source": [
    "def multiply(my_dict):\n",
    "    result=1\n",
    "    for i in range(1,9):\n",
    "        result=i*i\n",
    "    return result\n",
    "my_dict={1,2,3,4,5,6,7,8}\n",
    "print(my_dict)"
   ]
  },
  {
   "cell_type": "code",
   "execution_count": 16,
   "id": "8e308a3f",
   "metadata": {},
   "outputs": [
    {
     "name": "stdout",
     "output_type": "stream",
     "text": [
      "enter a number: 8\n",
      "{1: 1, 2: 4, 3: 9, 4: 16, 5: 25, 6: 36, 7: 49, 8: 64}\n"
     ]
    }
   ],
   "source": [
    "num=int(input(\"enter a number: \"))\n",
    "dict={}\n",
    "for i in range(1,num+1):\n",
    "    dict[i]=i*i\n",
    "print(dict)"
   ]
  },
  {
   "cell_type": "code",
   "execution_count": 23,
   "id": "e1fb2340",
   "metadata": {},
   "outputs": [
    {
     "name": "stdout",
     "output_type": "stream",
     "text": [
      "[('item3', '24.5'), ('item2', '15.10'), ('item1', '12.20')]\n"
     ]
    }
   ],
   "source": [
    "def sort_tuple_by_float(tuples):\n",
    "    return sorted(tuples, key=lambda x: float(x[1]), reverse=True)\n",
    "t = [('item1', '12.20'), ('item2', '15.10'), ('item3', '24.5')]\n",
    "sorted_t = sort_tuple_by_float(t)\n",
    "print(sorted_t)"
   ]
  },
  {
   "cell_type": "code",
   "execution_count": 24,
   "id": "0634a00c",
   "metadata": {},
   "outputs": [
    {
     "name": "stdout",
     "output_type": "stream",
     "text": [
      "{0, 1, 2, 3, 4}\n",
      "0\n",
      "1\n",
      "2\n",
      "3\n",
      "4\n",
      "{0, 1, 2, 3, 4, 5, 6, 7}\n",
      "{0, 1, 2, 3, 4, 5, 6}\n"
     ]
    }
   ],
   "source": [
    "my_set = {0, 1, 2, 3, 4}\n",
    "print(my_set)\n",
    "for item in my_set:\n",
    "    print(item)\n",
    "my_set.add(5)\n",
    "my_set.update([6, 7])\n",
    "print(my_set)\n",
    "my_set.remove(7)\n",
    "my_set.discard(8)  # This won't raise an error because 8 is not in the set\n",
    "print(my_set)"
   ]
  },
  {
   "cell_type": "code",
   "execution_count": 3,
   "id": "0648d606",
   "metadata": {},
   "outputs": [
    {
     "data": {
      "text/plain": [
       "[('item3', '24.5'), ('item2', '15.10'), ('item1', '12.20')]"
      ]
     },
     "execution_count": 3,
     "metadata": {},
     "output_type": "execute_result"
    }
   ],
   "source": [
    "t = [('item1', '12.20'), ('item2', '15.10'), ('item3', '24.5')]\n",
    "t.sort(key = lambda x:float(x[1]),reverse= True)\n",
    "t"
   ]
  },
  {
   "cell_type": "code",
   "execution_count": null,
   "id": "8f25616e",
   "metadata": {},
   "outputs": [],
   "source": []
  }
 ],
 "metadata": {
  "kernelspec": {
   "display_name": "Python 3 (ipykernel)",
   "language": "python",
   "name": "python3"
  },
  "language_info": {
   "codemirror_mode": {
    "name": "ipython",
    "version": 3
   },
   "file_extension": ".py",
   "mimetype": "text/x-python",
   "name": "python",
   "nbconvert_exporter": "python",
   "pygments_lexer": "ipython3",
   "version": "3.9.13"
  }
 },
 "nbformat": 4,
 "nbformat_minor": 5
}

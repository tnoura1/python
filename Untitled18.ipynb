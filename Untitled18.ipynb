{
 "cells": [
  {
   "cell_type": "code",
   "execution_count": null,
   "id": "b939c56c",
   "metadata": {},
   "outputs": [],
   "source": [
    "import tkinter as tk\n",
    "\n",
    "def fahrenheit_to_celsius():\n",
    "    fahrenheit = float(ent_temperature.get())\n",
    "    celsius = (fahrenheit - 32) * 5/9\n",
    "    lbl_result[\"text\"] = f\"{celsius:.2f} \\N{DEGREE CELSIUS}\"\n",
    "\n",
    "window = tk.Tk()\n",
    "window.title(\"Temperature Converter\")\n",
    "window.resizable(width=False, height=False)\n",
    "\n",
    "frm_entry = tk.Frame(master=window)\n",
    "ent_temperature = tk.Entry(master=frm_entry, width=10)\n",
    "lbl_temp = tk.Label(master=frm_entry, text=\"\\N{DEGREE FAHRENHEIT}\")\n",
    "\n",
    "ent_temperature.grid(row=0, column=0, sticky=\"e\")\n",
    "lbl_temp.grid(row=0, column=1, sticky=\"w\")\n",
    "\n",
    "btn_convert = tk.Button(master=window, text=\"\\N{RIGHTWARDS BLACK ARROW}\", command=fahrenheit_to_celsius)\n",
    "lbl_result = tk.Label(master=window, text=\"\\N{DEGREE CELSIUS}\")\n",
    "\n",
    "frm_entry.grid(row=0, column=0, padx=10)\n",
    "btn_convert.grid(row=0, column=1, pady=10)\n",
    "lbl_result.grid(row=0, column=2, padx=10)\n",
    "\n",
    "window.mainloop()"
   ]
  },
  {
   "cell_type": "code",
   "execution_count": null,
   "id": "a57bf53a",
   "metadata": {},
   "outputs": [],
   "source": []
  }
 ],
 "metadata": {
  "kernelspec": {
   "display_name": "Python 3 (ipykernel)",
   "language": "python",
   "name": "python3"
  }
 },
 "nbformat": 4,
 "nbformat_minor": 5
}

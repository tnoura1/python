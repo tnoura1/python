{
 "cells": [
  {
   "cell_type": "code",
   "execution_count": null,
   "id": "fd80272b",
   "metadata": {},
   "outputs": [],
   "source": [
    "import tkinter as tk\n",
    "def fahrenheit_to_celsius():\n",
    "    fahrenheit = float(ent_temperature.get())\n",
    "    celsius = (fahrenheit - 32) * 5/9\n",
    "    lbl_result[\"text\"] = f\"{celsius:.2f} \\N{DEGREE CELSIUS}\"\n",
    "window = tk.Tk()\n",
    "window.title(\"Temperature Converter\")\n",
    "frm_entry = tk.Frame(master=window)\n",
    "ent_temperature = tk.Entry(master=frm_entry, width=10)\n",
    "lbl_temp = tk.Label(master=frm_entry, text=\"\\N{DEGREE FAHRENHEIT}\")\n",
    "ent_temperature.grid(row=0, column=0, sticky=\"e\")\n",
    "lbl_temp.grid(row=0, column=1, sticky=\"w\")\n",
    "btn_convert = tk.Button(master=window, text=\"Convert\", command=fahrenheit_to_celsius)\n",
    "lbl_result = tk.Label(master=window, text=\"\\N{DEGREE CELSIUS}\")\n",
    "frm_entry.pack(pady=10)\n",
    "btn_convert.pack(pady=5)\n",
    "lbl_result.pack()\n",
    "window.mainloop()"
   ]
  }
 ],
 "metadata": {
  "kernelspec": {
   "display_name": "Python 3 (ipykernel)",
   "language": "python",
   "name": "python3"
  },
  "language_info": {
   "codemirror_mode": {
    "name": "ipython",
    "version": 3
   },
   "file_extension": ".py",
   "mimetype": "text/x-python",
   "name": "python",
   "nbconvert_exporter": "python",
   "pygments_lexer": "ipython3",
   "version": "3.9.13"
  }
 },
 "nbformat": 4,
 "nbformat_minor": 5
}

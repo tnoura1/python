{
 "cells": [
  {
   "cell_type": "code",
   "execution_count": 15,
   "id": "2ec7cf6e",
   "metadata": {},
   "outputs": [
    {
     "name": "stdout",
     "output_type": "stream",
     "text": [
      "36\n"
     ]
    }
   ],
   "source": [
    "my_list=[2,3,6]\n",
    "def multiply(my_list):\n",
    "    result=1\n",
    "    for x in my_list:\n",
    "        result=result*x\n",
    "    return result\n",
    "print(multiply(my_list))"
   ]
  },
  {
   "cell_type": "code",
   "execution_count": null,
   "id": "b2d938f1",
   "metadata": {},
   "outputs": [],
   "source": []
  }
 ],
 "metadata": {
  "kernelspec": {
   "display_name": "Python 3 (ipykernel)",
   "language": "python",
   "name": "python3"
  },
  "language_info": {
   "codemirror_mode": {
    "name": "ipython",
    "version": 3
   },
   "file_extension": ".py",
   "mimetype": "text/x-python",
   "name": "python",
   "nbconvert_exporter": "python",
   "pygments_lexer": "ipython3",
   "version": "3.9.13"
  }
 },
 "nbformat": 4,
 "nbformat_minor": 5
}
